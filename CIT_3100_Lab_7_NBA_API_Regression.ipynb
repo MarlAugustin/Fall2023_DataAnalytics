{
  "cells": [
    {
      "cell_type": "markdown",
      "id": "fc9d9c58",
      "metadata": {
        "id": "fc9d9c58"
      },
      "source": [
        "# NBA_API: A Regression Example\n",
        "### CIT 3100\n",
        "### Marlond Augustin"
      ]
    },
    {
      "cell_type": "code",
      "execution_count": null,
      "id": "b13765f3",
      "metadata": {
        "id": "b13765f3",
        "outputId": "e8931821-15bc-4b8e-faea-d71e6b0bb918",
        "colab": {
          "base_uri": "https://localhost:8080/"
        }
      },
      "outputs": [
        {
          "output_type": "stream",
          "name": "stdout",
          "text": [
            "Collecting nba_api\n",
            "  Downloading nba_api-1.3.1-py3-none-any.whl (256 kB)\n",
            "\u001b[2K     \u001b[90m━━━━━━━━━━━━━━━━━━━━━━━━━━━━━━━━━━━━━━━━\u001b[0m \u001b[32m256.2/256.2 kB\u001b[0m \u001b[31m3.8 MB/s\u001b[0m eta \u001b[36m0:00:00\u001b[0m\n",
            "\u001b[?25hRequirement already satisfied: certifi<2024.0.0,>=2022.12.7 in /usr/local/lib/python3.10/dist-packages (from nba_api) (2023.7.22)\n",
            "Requirement already satisfied: numpy<2.0.0,>=1.22.2 in /usr/local/lib/python3.10/dist-packages (from nba_api) (1.23.5)\n",
            "Requirement already satisfied: requests<3.0,>=2.31 in /usr/local/lib/python3.10/dist-packages (from nba_api) (2.31.0)\n",
            "Requirement already satisfied: charset-normalizer<4,>=2 in /usr/local/lib/python3.10/dist-packages (from requests<3.0,>=2.31->nba_api) (3.3.1)\n",
            "Requirement already satisfied: idna<4,>=2.5 in /usr/local/lib/python3.10/dist-packages (from requests<3.0,>=2.31->nba_api) (3.4)\n",
            "Requirement already satisfied: urllib3<3,>=1.21.1 in /usr/local/lib/python3.10/dist-packages (from requests<3.0,>=2.31->nba_api) (2.0.7)\n",
            "Installing collected packages: nba_api\n",
            "Successfully installed nba_api-1.3.1\n"
          ]
        }
      ],
      "source": [
        "# based on https://betterprogramming.pub/using-pythons-nba-api-to-create-a-simple-regression-model-ac9a3b36bc8\n",
        "\n",
        "# If you want to change whether it prints all output,\n",
        "# or only the last expression (default behavior)\n",
        "from IPython.core.interactiveshell import InteractiveShell\n",
        "InteractiveShell.ast_node_interactivity = \"all\" #\"last_expr\"#\n",
        "\n",
        "# First we will import our packages\n",
        "import pandas as pd\n",
        "import numpy as np\n",
        "from sklearn import linear_model\n",
        "import requests\n",
        "!pip install nba_api\n",
        "from nba_api.stats import endpoints\n",
        "from matplotlib import pyplot as plt"
      ]
    },
    {
      "cell_type": "markdown",
      "id": "62ac231c",
      "metadata": {
        "id": "62ac231c"
      },
      "source": [
        "### Load in some data"
      ]
    },
    {
      "cell_type": "code",
      "execution_count": null,
      "id": "5911db8d",
      "metadata": {
        "id": "5911db8d",
        "colab": {
          "base_uri": "https://localhost:8080/",
          "height": 322
        },
        "outputId": "8923743e-9988-4011-821b-aec61fef1416"
      },
      "outputs": [
        {
          "output_type": "execute_result",
          "data": {
            "text/plain": [
              "   PLAYER_ID  RANK                   PLAYER     TEAM_ID TEAM  GP   MIN  FGM  \\\n",
              "0    1628369     1             Jayson Tatum  1610612738  BOS  74  2732  727   \n",
              "1     203954     2              Joel Embiid  1610612755  PHI  66  2284  728   \n",
              "2    1629029     3              Luka Doncic  1610612742  DAL  66  2391  719   \n",
              "3    1628983     4  Shai Gilgeous-Alexander  1610612760  OKC  68  2416  704   \n",
              "4     203507     5    Giannis Antetokounmpo  1610612749  MIL  63  2024  707   \n",
              "\n",
              "    FGA  FG_PCT  ...  REB  AST  STL  BLK  TOV   PF   PTS   EFF  AST_TOV  \\\n",
              "0  1559   0.466  ...  649  342   78   51  213  160  2225  2209     1.61   \n",
              "1  1328   0.548  ...  670  274   66  112  226  205  2183  2369     1.21   \n",
              "2  1449   0.496  ...  569  529   90   33  236  166  2138  2214     2.24   \n",
              "3  1381   0.510  ...  329  371  112   65  192  192  2135  2073     1.93   \n",
              "4  1278   0.553  ...  742  359   52   51  246  197  1959  2072     1.46   \n",
              "\n",
              "   STL_TOV  \n",
              "0     0.37  \n",
              "1     0.29  \n",
              "2     0.38  \n",
              "3     0.58  \n",
              "4     0.21  \n",
              "\n",
              "[5 rows x 28 columns]"
            ],
            "text/html": [
              "\n",
              "  <div id=\"df-291b929a-9999-4df7-8f3e-70785747e18c\" class=\"colab-df-container\">\n",
              "    <div>\n",
              "<style scoped>\n",
              "    .dataframe tbody tr th:only-of-type {\n",
              "        vertical-align: middle;\n",
              "    }\n",
              "\n",
              "    .dataframe tbody tr th {\n",
              "        vertical-align: top;\n",
              "    }\n",
              "\n",
              "    .dataframe thead th {\n",
              "        text-align: right;\n",
              "    }\n",
              "</style>\n",
              "<table border=\"1\" class=\"dataframe\">\n",
              "  <thead>\n",
              "    <tr style=\"text-align: right;\">\n",
              "      <th></th>\n",
              "      <th>PLAYER_ID</th>\n",
              "      <th>RANK</th>\n",
              "      <th>PLAYER</th>\n",
              "      <th>TEAM_ID</th>\n",
              "      <th>TEAM</th>\n",
              "      <th>GP</th>\n",
              "      <th>MIN</th>\n",
              "      <th>FGM</th>\n",
              "      <th>FGA</th>\n",
              "      <th>FG_PCT</th>\n",
              "      <th>...</th>\n",
              "      <th>REB</th>\n",
              "      <th>AST</th>\n",
              "      <th>STL</th>\n",
              "      <th>BLK</th>\n",
              "      <th>TOV</th>\n",
              "      <th>PF</th>\n",
              "      <th>PTS</th>\n",
              "      <th>EFF</th>\n",
              "      <th>AST_TOV</th>\n",
              "      <th>STL_TOV</th>\n",
              "    </tr>\n",
              "  </thead>\n",
              "  <tbody>\n",
              "    <tr>\n",
              "      <th>0</th>\n",
              "      <td>1628369</td>\n",
              "      <td>1</td>\n",
              "      <td>Jayson Tatum</td>\n",
              "      <td>1610612738</td>\n",
              "      <td>BOS</td>\n",
              "      <td>74</td>\n",
              "      <td>2732</td>\n",
              "      <td>727</td>\n",
              "      <td>1559</td>\n",
              "      <td>0.466</td>\n",
              "      <td>...</td>\n",
              "      <td>649</td>\n",
              "      <td>342</td>\n",
              "      <td>78</td>\n",
              "      <td>51</td>\n",
              "      <td>213</td>\n",
              "      <td>160</td>\n",
              "      <td>2225</td>\n",
              "      <td>2209</td>\n",
              "      <td>1.61</td>\n",
              "      <td>0.37</td>\n",
              "    </tr>\n",
              "    <tr>\n",
              "      <th>1</th>\n",
              "      <td>203954</td>\n",
              "      <td>2</td>\n",
              "      <td>Joel Embiid</td>\n",
              "      <td>1610612755</td>\n",
              "      <td>PHI</td>\n",
              "      <td>66</td>\n",
              "      <td>2284</td>\n",
              "      <td>728</td>\n",
              "      <td>1328</td>\n",
              "      <td>0.548</td>\n",
              "      <td>...</td>\n",
              "      <td>670</td>\n",
              "      <td>274</td>\n",
              "      <td>66</td>\n",
              "      <td>112</td>\n",
              "      <td>226</td>\n",
              "      <td>205</td>\n",
              "      <td>2183</td>\n",
              "      <td>2369</td>\n",
              "      <td>1.21</td>\n",
              "      <td>0.29</td>\n",
              "    </tr>\n",
              "    <tr>\n",
              "      <th>2</th>\n",
              "      <td>1629029</td>\n",
              "      <td>3</td>\n",
              "      <td>Luka Doncic</td>\n",
              "      <td>1610612742</td>\n",
              "      <td>DAL</td>\n",
              "      <td>66</td>\n",
              "      <td>2391</td>\n",
              "      <td>719</td>\n",
              "      <td>1449</td>\n",
              "      <td>0.496</td>\n",
              "      <td>...</td>\n",
              "      <td>569</td>\n",
              "      <td>529</td>\n",
              "      <td>90</td>\n",
              "      <td>33</td>\n",
              "      <td>236</td>\n",
              "      <td>166</td>\n",
              "      <td>2138</td>\n",
              "      <td>2214</td>\n",
              "      <td>2.24</td>\n",
              "      <td>0.38</td>\n",
              "    </tr>\n",
              "    <tr>\n",
              "      <th>3</th>\n",
              "      <td>1628983</td>\n",
              "      <td>4</td>\n",
              "      <td>Shai Gilgeous-Alexander</td>\n",
              "      <td>1610612760</td>\n",
              "      <td>OKC</td>\n",
              "      <td>68</td>\n",
              "      <td>2416</td>\n",
              "      <td>704</td>\n",
              "      <td>1381</td>\n",
              "      <td>0.510</td>\n",
              "      <td>...</td>\n",
              "      <td>329</td>\n",
              "      <td>371</td>\n",
              "      <td>112</td>\n",
              "      <td>65</td>\n",
              "      <td>192</td>\n",
              "      <td>192</td>\n",
              "      <td>2135</td>\n",
              "      <td>2073</td>\n",
              "      <td>1.93</td>\n",
              "      <td>0.58</td>\n",
              "    </tr>\n",
              "    <tr>\n",
              "      <th>4</th>\n",
              "      <td>203507</td>\n",
              "      <td>5</td>\n",
              "      <td>Giannis Antetokounmpo</td>\n",
              "      <td>1610612749</td>\n",
              "      <td>MIL</td>\n",
              "      <td>63</td>\n",
              "      <td>2024</td>\n",
              "      <td>707</td>\n",
              "      <td>1278</td>\n",
              "      <td>0.553</td>\n",
              "      <td>...</td>\n",
              "      <td>742</td>\n",
              "      <td>359</td>\n",
              "      <td>52</td>\n",
              "      <td>51</td>\n",
              "      <td>246</td>\n",
              "      <td>197</td>\n",
              "      <td>1959</td>\n",
              "      <td>2072</td>\n",
              "      <td>1.46</td>\n",
              "      <td>0.21</td>\n",
              "    </tr>\n",
              "  </tbody>\n",
              "</table>\n",
              "<p>5 rows × 28 columns</p>\n",
              "</div>\n",
              "    <div class=\"colab-df-buttons\">\n",
              "\n",
              "  <div class=\"colab-df-container\">\n",
              "    <button class=\"colab-df-convert\" onclick=\"convertToInteractive('df-291b929a-9999-4df7-8f3e-70785747e18c')\"\n",
              "            title=\"Convert this dataframe to an interactive table.\"\n",
              "            style=\"display:none;\">\n",
              "\n",
              "  <svg xmlns=\"http://www.w3.org/2000/svg\" height=\"24px\" viewBox=\"0 -960 960 960\">\n",
              "    <path d=\"M120-120v-720h720v720H120Zm60-500h600v-160H180v160Zm220 220h160v-160H400v160Zm0 220h160v-160H400v160ZM180-400h160v-160H180v160Zm440 0h160v-160H620v160ZM180-180h160v-160H180v160Zm440 0h160v-160H620v160Z\"/>\n",
              "  </svg>\n",
              "    </button>\n",
              "\n",
              "  <style>\n",
              "    .colab-df-container {\n",
              "      display:flex;\n",
              "      gap: 12px;\n",
              "    }\n",
              "\n",
              "    .colab-df-convert {\n",
              "      background-color: #E8F0FE;\n",
              "      border: none;\n",
              "      border-radius: 50%;\n",
              "      cursor: pointer;\n",
              "      display: none;\n",
              "      fill: #1967D2;\n",
              "      height: 32px;\n",
              "      padding: 0 0 0 0;\n",
              "      width: 32px;\n",
              "    }\n",
              "\n",
              "    .colab-df-convert:hover {\n",
              "      background-color: #E2EBFA;\n",
              "      box-shadow: 0px 1px 2px rgba(60, 64, 67, 0.3), 0px 1px 3px 1px rgba(60, 64, 67, 0.15);\n",
              "      fill: #174EA6;\n",
              "    }\n",
              "\n",
              "    .colab-df-buttons div {\n",
              "      margin-bottom: 4px;\n",
              "    }\n",
              "\n",
              "    [theme=dark] .colab-df-convert {\n",
              "      background-color: #3B4455;\n",
              "      fill: #D2E3FC;\n",
              "    }\n",
              "\n",
              "    [theme=dark] .colab-df-convert:hover {\n",
              "      background-color: #434B5C;\n",
              "      box-shadow: 0px 1px 3px 1px rgba(0, 0, 0, 0.15);\n",
              "      filter: drop-shadow(0px 1px 2px rgba(0, 0, 0, 0.3));\n",
              "      fill: #FFFFFF;\n",
              "    }\n",
              "  </style>\n",
              "\n",
              "    <script>\n",
              "      const buttonEl =\n",
              "        document.querySelector('#df-291b929a-9999-4df7-8f3e-70785747e18c button.colab-df-convert');\n",
              "      buttonEl.style.display =\n",
              "        google.colab.kernel.accessAllowed ? 'block' : 'none';\n",
              "\n",
              "      async function convertToInteractive(key) {\n",
              "        const element = document.querySelector('#df-291b929a-9999-4df7-8f3e-70785747e18c');\n",
              "        const dataTable =\n",
              "          await google.colab.kernel.invokeFunction('convertToInteractive',\n",
              "                                                    [key], {});\n",
              "        if (!dataTable) return;\n",
              "\n",
              "        const docLinkHtml = 'Like what you see? Visit the ' +\n",
              "          '<a target=\"_blank\" href=https://colab.research.google.com/notebooks/data_table.ipynb>data table notebook</a>'\n",
              "          + ' to learn more about interactive tables.';\n",
              "        element.innerHTML = '';\n",
              "        dataTable['output_type'] = 'display_data';\n",
              "        await google.colab.output.renderOutput(dataTable, element);\n",
              "        const docLink = document.createElement('div');\n",
              "        docLink.innerHTML = docLinkHtml;\n",
              "        element.appendChild(docLink);\n",
              "      }\n",
              "    </script>\n",
              "  </div>\n",
              "\n",
              "\n",
              "<div id=\"df-47a77a89-58d3-4371-98a9-a0b12138feb0\">\n",
              "  <button class=\"colab-df-quickchart\" onclick=\"quickchart('df-47a77a89-58d3-4371-98a9-a0b12138feb0')\"\n",
              "            title=\"Suggest charts.\"\n",
              "            style=\"display:none;\">\n",
              "\n",
              "<svg xmlns=\"http://www.w3.org/2000/svg\" height=\"24px\"viewBox=\"0 0 24 24\"\n",
              "     width=\"24px\">\n",
              "    <g>\n",
              "        <path d=\"M19 3H5c-1.1 0-2 .9-2 2v14c0 1.1.9 2 2 2h14c1.1 0 2-.9 2-2V5c0-1.1-.9-2-2-2zM9 17H7v-7h2v7zm4 0h-2V7h2v10zm4 0h-2v-4h2v4z\"/>\n",
              "    </g>\n",
              "</svg>\n",
              "  </button>\n",
              "\n",
              "<style>\n",
              "  .colab-df-quickchart {\n",
              "      --bg-color: #E8F0FE;\n",
              "      --fill-color: #1967D2;\n",
              "      --hover-bg-color: #E2EBFA;\n",
              "      --hover-fill-color: #174EA6;\n",
              "      --disabled-fill-color: #AAA;\n",
              "      --disabled-bg-color: #DDD;\n",
              "  }\n",
              "\n",
              "  [theme=dark] .colab-df-quickchart {\n",
              "      --bg-color: #3B4455;\n",
              "      --fill-color: #D2E3FC;\n",
              "      --hover-bg-color: #434B5C;\n",
              "      --hover-fill-color: #FFFFFF;\n",
              "      --disabled-bg-color: #3B4455;\n",
              "      --disabled-fill-color: #666;\n",
              "  }\n",
              "\n",
              "  .colab-df-quickchart {\n",
              "    background-color: var(--bg-color);\n",
              "    border: none;\n",
              "    border-radius: 50%;\n",
              "    cursor: pointer;\n",
              "    display: none;\n",
              "    fill: var(--fill-color);\n",
              "    height: 32px;\n",
              "    padding: 0;\n",
              "    width: 32px;\n",
              "  }\n",
              "\n",
              "  .colab-df-quickchart:hover {\n",
              "    background-color: var(--hover-bg-color);\n",
              "    box-shadow: 0 1px 2px rgba(60, 64, 67, 0.3), 0 1px 3px 1px rgba(60, 64, 67, 0.15);\n",
              "    fill: var(--button-hover-fill-color);\n",
              "  }\n",
              "\n",
              "  .colab-df-quickchart-complete:disabled,\n",
              "  .colab-df-quickchart-complete:disabled:hover {\n",
              "    background-color: var(--disabled-bg-color);\n",
              "    fill: var(--disabled-fill-color);\n",
              "    box-shadow: none;\n",
              "  }\n",
              "\n",
              "  .colab-df-spinner {\n",
              "    border: 2px solid var(--fill-color);\n",
              "    border-color: transparent;\n",
              "    border-bottom-color: var(--fill-color);\n",
              "    animation:\n",
              "      spin 1s steps(1) infinite;\n",
              "  }\n",
              "\n",
              "  @keyframes spin {\n",
              "    0% {\n",
              "      border-color: transparent;\n",
              "      border-bottom-color: var(--fill-color);\n",
              "      border-left-color: var(--fill-color);\n",
              "    }\n",
              "    20% {\n",
              "      border-color: transparent;\n",
              "      border-left-color: var(--fill-color);\n",
              "      border-top-color: var(--fill-color);\n",
              "    }\n",
              "    30% {\n",
              "      border-color: transparent;\n",
              "      border-left-color: var(--fill-color);\n",
              "      border-top-color: var(--fill-color);\n",
              "      border-right-color: var(--fill-color);\n",
              "    }\n",
              "    40% {\n",
              "      border-color: transparent;\n",
              "      border-right-color: var(--fill-color);\n",
              "      border-top-color: var(--fill-color);\n",
              "    }\n",
              "    60% {\n",
              "      border-color: transparent;\n",
              "      border-right-color: var(--fill-color);\n",
              "    }\n",
              "    80% {\n",
              "      border-color: transparent;\n",
              "      border-right-color: var(--fill-color);\n",
              "      border-bottom-color: var(--fill-color);\n",
              "    }\n",
              "    90% {\n",
              "      border-color: transparent;\n",
              "      border-bottom-color: var(--fill-color);\n",
              "    }\n",
              "  }\n",
              "</style>\n",
              "\n",
              "  <script>\n",
              "    async function quickchart(key) {\n",
              "      const quickchartButtonEl =\n",
              "        document.querySelector('#' + key + ' button');\n",
              "      quickchartButtonEl.disabled = true;  // To prevent multiple clicks.\n",
              "      quickchartButtonEl.classList.add('colab-df-spinner');\n",
              "      try {\n",
              "        const charts = await google.colab.kernel.invokeFunction(\n",
              "            'suggestCharts', [key], {});\n",
              "      } catch (error) {\n",
              "        console.error('Error during call to suggestCharts:', error);\n",
              "      }\n",
              "      quickchartButtonEl.classList.remove('colab-df-spinner');\n",
              "      quickchartButtonEl.classList.add('colab-df-quickchart-complete');\n",
              "    }\n",
              "    (() => {\n",
              "      let quickchartButtonEl =\n",
              "        document.querySelector('#df-47a77a89-58d3-4371-98a9-a0b12138feb0 button');\n",
              "      quickchartButtonEl.style.display =\n",
              "        google.colab.kernel.accessAllowed ? 'block' : 'none';\n",
              "    })();\n",
              "  </script>\n",
              "</div>\n",
              "    </div>\n",
              "  </div>\n"
            ]
          },
          "metadata": {},
          "execution_count": 2
        },
        {
          "output_type": "execute_result",
          "data": {
            "text/plain": [
              "Index(['PLAYER_ID', 'RANK', 'PLAYER', 'TEAM_ID', 'TEAM', 'GP', 'MIN', 'FGM',\n",
              "       'FGA', 'FG_PCT', 'FG3M', 'FG3A', 'FG3_PCT', 'FTM', 'FTA', 'FT_PCT',\n",
              "       'OREB', 'DREB', 'REB', 'AST', 'STL', 'BLK', 'TOV', 'PF', 'PTS', 'EFF',\n",
              "       'AST_TOV', 'STL_TOV'],\n",
              "      dtype='object')"
            ]
          },
          "metadata": {},
          "execution_count": 2
        }
      ],
      "source": [
        "# Here we access the leagueleaders module through endpoints & assign the class to \"data\"\n",
        "# help(endpoints.leagueleaders.LeagueLeaders)\n",
        "data = endpoints.leagueleaders.LeagueLeaders(season='2022-23')\n",
        "\n",
        "# Our \"data\" variable now has built in functions such as creating a dataframe for our data\n",
        "df = data.league_leaders.get_data_frame()\n",
        "\n",
        "# take a sneak peak at the first 5 rows\n",
        "df.head()\n",
        "df.columns"
      ]
    },
    {
      "cell_type": "markdown",
      "id": "7321ff9f",
      "metadata": {
        "id": "7321ff9f"
      },
      "source": [
        "### Create new variables from averages\n",
        "\n",
        "<font color=red>Define `x` as the average field goal attempts per game. (You will need to divide the values of FGA (field goal attempts) by the values of GP (games played). Similarly, define `y` as the average number of points per game for each player (so, divide PTS by GP).</font>"
      ]
    },
    {
      "cell_type": "code",
      "execution_count": null,
      "id": "8199d0c7",
      "metadata": {
        "id": "8199d0c7"
      },
      "outputs": [],
      "source": [
        "# First we need to get per game stats.\n",
        "# We divide each variable by games played (GP) to get per game average\n",
        "x = df.FGA / df.GP\n",
        "y = df.PTS / df.GP"
      ]
    },
    {
      "cell_type": "markdown",
      "source": [
        "<font color = red> First, let's make a scatter plot of our data. You can use the `scatter` command in `matplotlib.pyplot`, which was imported as `plt`. So, do `plt.scatter()` and provide two arguments `x` and `y` in the parentheses.</font>"
      ],
      "metadata": {
        "id": "S5wUDydTSfJf"
      },
      "id": "S5wUDydTSfJf"
    },
    {
      "cell_type": "code",
      "source": [
        "plt.scatter(x,y)\n",
        "plt.title('Is there A correlation between Field Goal and the amount of points')            # Give it a title\n",
        "plt.xlabel('Field Goal Attempts')                              # Label x-axis\n",
        "plt.ylabel('Points Per Game')"
      ],
      "metadata": {
        "id": "cKatQiJqSD0J",
        "colab": {
          "base_uri": "https://localhost:8080/",
          "height": 507
        },
        "outputId": "4e6630b7-a732-4e16-b329-80be261ad8aa"
      },
      "id": "cKatQiJqSD0J",
      "execution_count": null,
      "outputs": [
        {
          "output_type": "execute_result",
          "data": {
            "text/plain": [
              "<matplotlib.collections.PathCollection at 0x783e948cb520>"
            ]
          },
          "metadata": {},
          "execution_count": 6
        },
        {
          "output_type": "execute_result",
          "data": {
            "text/plain": [
              "Text(0.5, 1.0, 'Is there A correlation between Field Goal and the amount of points')"
            ]
          },
          "metadata": {},
          "execution_count": 6
        },
        {
          "output_type": "execute_result",
          "data": {
            "text/plain": [
              "Text(0.5, 0, 'Field Goal Attempts')"
            ]
          },
          "metadata": {},
          "execution_count": 6
        },
        {
          "output_type": "execute_result",
          "data": {
            "text/plain": [
              "Text(0, 0.5, 'Points Per Game')"
            ]
          },
          "metadata": {},
          "execution_count": 6
        },
        {
          "output_type": "display_data",
          "data": {
            "text/plain": [
              "<Figure size 640x480 with 1 Axes>"
            ],
            "image/png": "[encoded data removed]"
          },
          "metadata": {}
        }
      ]
    },
    {
      "cell_type": "markdown",
      "id": "f581bac0",
      "metadata": {
        "id": "f581bac0"
      },
      "source": [
        "### Reshape data into arrays for LinearRegression"
      ]
    },
    {
      "cell_type": "markdown",
      "source": [
        "Below, we reshape `x` so that it is a one-dimensional (1D) array. <font color=red> On the line right below, write a similar command to make `y` a 1D array as well.</font>"
      ],
      "metadata": {
        "id": "k8uPnC9sN5vU"
      },
      "id": "k8uPnC9sN5vU"
    },
    {
      "cell_type": "code",
      "execution_count": null,
      "id": "2a8fec9e",
      "metadata": {
        "id": "2a8fec9e"
      },
      "outputs": [],
      "source": [
        "# we have to reshape our array from 1d to 2d.\n",
        "# The proper shaped array is an input requirement for the linear model\n",
        "# reshaping is usually an issue when using 1 x variable\n",
        "x = np.array(x).reshape(-1,1) # (-1,1) allows you to reshape to a single column\n",
        "y = np.array(y).reshape(-1,1)"
      ]
    },
    {
      "cell_type": "markdown",
      "id": "1229afbd",
      "metadata": {
        "id": "1229afbd"
      },
      "source": [
        "### Fit the linear regression model"
      ]
    },
    {
      "cell_type": "markdown",
      "source": [
        "<font color=red>First define a `model` object in Python which will use the LinearRegression() function from linear_model. Then, on the next line, perform a model fit with the reshaped `x` and `y` from above. If you need help, you can copy and paste these two lines of code from the heart rate example.</font>"
      ],
      "metadata": {
        "id": "AZVXSh0xWdis"
      },
      "id": "AZVXSh0xWdis"
    },
    {
      "cell_type": "code",
      "execution_count": null,
      "id": "fc67df1e",
      "metadata": {
        "id": "fc67df1e",
        "colab": {
          "base_uri": "https://localhost:8080/",
          "height": 74
        },
        "outputId": "7569cddb-574e-4493-eec9-a7c20bc37642"
      },
      "outputs": [
        {
          "output_type": "execute_result",
          "data": {
            "text/plain": [
              "LinearRegression()"
            ],
            "text/html": [
              "<style>#sk-container-id-1 {color: black;background-color: white;}#sk-container-id-1 pre{padding: 0;}#sk-container-id-1 div.sk-toggleable {background-color: white;}#sk-container-id-1 label.sk-toggleable__label {cursor: pointer;display: block;width: 100%;margin-bottom: 0;padding: 0.3em;box-sizing: border-box;text-align: center;}#sk-container-id-1 label.sk-toggleable__label-arrow:before {content: \"▸\";float: left;margin-right: 0.25em;color: #696969;}#sk-container-id-1 label.sk-toggleable__label-arrow:hover:before {color: black;}#sk-container-id-1 div.sk-estimator:hover label.sk-toggleable__label-arrow:before {color: black;}#sk-container-id-1 div.sk-toggleable__content {max-height: 0;max-width: 0;overflow: hidden;text-align: left;background-color: #f0f8ff;}#sk-container-id-1 div.sk-toggleable__content pre {margin: 0.2em;color: black;border-radius: 0.25em;background-color: #f0f8ff;}#sk-container-id-1 input.sk-toggleable__control:checked~div.sk-toggleable__content {max-height: 200px;max-width: 100%;overflow: auto;}#sk-container-id-1 input.sk-toggleable__control:checked~label.sk-toggleable__label-arrow:before {content: \"▾\";}#sk-container-id-1 div.sk-estimator input.sk-toggleable__control:checked~label.sk-toggleable__label {background-color: #d4ebff;}#sk-container-id-1 div.sk-label input.sk-toggleable__control:checked~label.sk-toggleable__label {background-color: #d4ebff;}#sk-container-id-1 input.sk-hidden--visually {border: 0;clip: rect(1px 1px 1px 1px);clip: rect(1px, 1px, 1px, 1px);height: 1px;margin: -1px;overflow: hidden;padding: 0;position: absolute;width: 1px;}#sk-container-id-1 div.sk-estimator {font-family: monospace;background-color: #f0f8ff;border: 1px dotted black;border-radius: 0.25em;box-sizing: border-box;margin-bottom: 0.5em;}#sk-container-id-1 div.sk-estimator:hover {background-color: #d4ebff;}#sk-container-id-1 div.sk-parallel-item::after {content: \"\";width: 100%;border-bottom: 1px solid gray;flex-grow: 1;}#sk-container-id-1 div.sk-label:hover label.sk-toggleable__label {background-color: #d4ebff;}#sk-container-id-1 div.sk-serial::before {content: \"\";position: absolute;border-left: 1px solid gray;box-sizing: border-box;top: 0;bottom: 0;left: 50%;z-index: 0;}#sk-container-id-1 div.sk-serial {display: flex;flex-direction: column;align-items: center;background-color: white;padding-right: 0.2em;padding-left: 0.2em;position: relative;}#sk-container-id-1 div.sk-item {position: relative;z-index: 1;}#sk-container-id-1 div.sk-parallel {display: flex;align-items: stretch;justify-content: center;background-color: white;position: relative;}#sk-container-id-1 div.sk-item::before, #sk-container-id-1 div.sk-parallel-item::before {content: \"\";position: absolute;border-left: 1px solid gray;box-sizing: border-box;top: 0;bottom: 0;left: 50%;z-index: -1;}#sk-container-id-1 div.sk-parallel-item {display: flex;flex-direction: column;z-index: 1;position: relative;background-color: white;}#sk-container-id-1 div.sk-parallel-item:first-child::after {align-self: flex-end;width: 50%;}#sk-container-id-1 div.sk-parallel-item:last-child::after {align-self: flex-start;width: 50%;}#sk-container-id-1 div.sk-parallel-item:only-child::after {width: 0;}#sk-container-id-1 div.sk-dashed-wrapped {border: 1px dashed gray;margin: 0 0.4em 0.5em 0.4em;box-sizing: border-box;padding-bottom: 0.4em;background-color: white;}#sk-container-id-1 div.sk-label label {font-family: monospace;font-weight: bold;display: inline-block;line-height: 1.2em;}#sk-container-id-1 div.sk-label-container {text-align: center;}#sk-container-id-1 div.sk-container {/* jupyter's `normalize.less` sets `[hidden] { display: none; }` but bootstrap.min.css set `[hidden] { display: none !important; }` so we also need the `!important` here to be able to override the default hidden behavior on the sphinx rendered scikit-learn.org. See: https://github.com/scikit-learn/scikit-learn/issues/21755 */display: inline-block !important;position: relative;}#sk-container-id-1 div.sk-text-repr-fallback {display: none;}</style><div id=\"sk-container-id-1\" class=\"sk-top-container\"><div class=\"sk-text-repr-fallback\"><pre>LinearRegression()</pre><b>In a Jupyter environment, please rerun this cell to show the HTML representation or trust the notebook. <br />On GitHub, the HTML representation is unable to render, please try loading this page with nbviewer.org.</b></div><div class=\"sk-container\" hidden><div class=\"sk-item\"><div class=\"sk-estimator sk-toggleable\"><input class=\"sk-toggleable__control sk-hidden--visually\" id=\"sk-estimator-id-1\" type=\"checkbox\" checked><label for=\"sk-estimator-id-1\" class=\"sk-toggleable__label sk-toggleable__label-arrow\">LinearRegression</label><div class=\"sk-toggleable__content\"><pre>LinearRegression()</pre></div></div></div></div></div>"
            ]
          },
          "metadata": {},
          "execution_count": 8
        }
      ],
      "source": [
        "# Build and fit linear regression model\n",
        "# create an object that contains the linear model class\n",
        "# Fit our modeling using FGA (x) and PPG (y)\n",
        "model = linear_model.LinearRegression()\n",
        "model.fit(x,y)\n"
      ]
    },
    {
      "cell_type": "markdown",
      "source": [
        "<font color=red> Print out the slope and intercept of the regression line using `model.coef_` and `model.intercept_`. </font>"
      ],
      "metadata": {
        "id": "-8YdLNi8PAr7"
      },
      "id": "-8YdLNi8PAr7"
    },
    {
      "cell_type": "code",
      "source": [
        "[model.coef_,model.intercept_]"
      ],
      "metadata": {
        "id": "rWJ6qlZlPBds",
        "colab": {
          "base_uri": "https://localhost:8080/"
        },
        "outputId": "b22087b2-9703-477e-de48-255338f4fda0"
      },
      "id": "rWJ6qlZlPBds",
      "execution_count": null,
      "outputs": [
        {
          "output_type": "execute_result",
          "data": {
            "text/plain": [
              "[array([[1.35551016]]), array([-0.50961072])]"
            ]
          },
          "metadata": {},
          "execution_count": 9
        }
      ]
    },
    {
      "cell_type": "markdown",
      "source": [
        "<font color=red>How can you interpret these values based on the context of the data? Fill in the blanks by double clicking the text cell below.</font>"
      ],
      "metadata": {
        "id": "kb941l5jPd88"
      },
      "id": "kb941l5jPd88"
    },
    {
      "cell_type": "markdown",
      "source": [
        "The slope is approximatively 1.36 and can be interpreted as for each field goal attempts, we can see a raise of 1.36 points per game.\n",
        "\n",
        "The intercept is approximatively -0.51 and can be interpreted when field goal attempts per game is 0, the number of  points per game will be -0.51"
      ],
      "metadata": {
        "id": "FED7to-fPgYy"
      },
      "id": "FED7to-fPgYy"
    },
    {
      "cell_type": "markdown",
      "id": "afee50d0",
      "metadata": {
        "id": "afee50d0"
      },
      "source": [
        "### Look at model predictions and model score ($R^2$)"
      ]
    },
    {
      "cell_type": "code",
      "execution_count": null,
      "id": "0bceff63",
      "metadata": {
        "id": "0bceff63"
      },
      "outputs": [],
      "source": [
        "# Get our r2 value and round it to 3 decimals. How much variance is explained?\n",
        "# Get our predicted y values for x (this will create the line of best fit)\n",
        "r2 = round(model.score(x,y), 3)\n",
        "predicted_y = model.predict(x)"
      ]
    },
    {
      "cell_type": "markdown",
      "source": [
        "### Check your model assumptions!\n",
        "\n",
        "We already saw that X and Y have a linear relationship. So, we need to also check to see if the residuals are approximately independent, have constant variance, and look approximately normal.\n",
        "\n",
        "<font color =\"red\"> Make a histgram of the residuals. </font>"
      ],
      "metadata": {
        "id": "7bA0SATqfFM7"
      },
      "id": "7bA0SATqfFM7"
    },
    {
      "cell_type": "code",
      "source": [
        "resid = y - predicted_y\n",
        "plt.hist(resid)"
      ],
      "metadata": {
        "id": "l-5Tln8PfbR7",
        "colab": {
          "base_uri": "https://localhost:8080/",
          "height": 517
        },
        "outputId": "0655bb21-b92b-4a5f-dd3e-4faf0852e8a1"
      },
      "id": "l-5Tln8PfbR7",
      "execution_count": null,
      "outputs": [
        {
          "output_type": "execute_result",
          "data": {
            "text/plain": [
              "(array([  2.,   9.,  42., 134., 233.,  84.,  21.,   6.,   7.,   1.]),\n",
              " array([-4.8765789 , -3.75783492, -2.63909095, -1.52034697, -0.40160299,\n",
              "         0.71714099,  1.83588496,  2.95462894,  4.07337292,  5.19211689,\n",
              "         6.31086087]),\n",
              " <BarContainer object of 10 artists>)"
            ]
          },
          "metadata": {},
          "execution_count": 12
        },
        {
          "output_type": "display_data",
          "data": {
            "text/plain": [
              "<Figure size 640x480 with 1 Axes>"
            ],
            "image/png": "[encoded data removed]"
          },
          "metadata": {}
        }
      ]
    },
    {
      "cell_type": "markdown",
      "source": [
        "<font color=\"red\"> Make a scatter plot comparing the predicted Y values with the residuals. </font>"
      ],
      "metadata": {
        "id": "9WAgotmLfby-"
      },
      "id": "9WAgotmLfby-"
    },
    {
      "cell_type": "code",
      "source": [
        "plt.scatter(y, resid, s=15, alpha=.5)                     # Scatterplot: Specfiy dot size(s) and transparency(alpha)\n",
        "plt.title('y vs resid')            # Give it a title\n",
        "plt.xlabel('y')                              # Label x-axis\n",
        "plt.ylabel('resid')                         # Label y-axis\n",
        "plt.axhline(0, color = \"orange\", linestyle = \"--\")"
      ],
      "metadata": {
        "id": "likgOzFnfiu6",
        "colab": {
          "base_uri": "https://localhost:8080/",
          "height": 489
        },
        "outputId": "5ffaae61-a2e2-43d4-b742-e99ab920fbd7"
      },
      "id": "likgOzFnfiu6",
      "execution_count": null,
      "outputs": [
        {
          "output_type": "execute_result",
          "data": {
            "text/plain": [
              "<matplotlib.collections.PathCollection at 0x783e927edd50>"
            ]
          },
          "metadata": {},
          "execution_count": 13
        },
        {
          "output_type": "execute_result",
          "data": {
            "text/plain": [
              "Text(0.5, 1.0, 'y vs resid')"
            ]
          },
          "metadata": {},
          "execution_count": 13
        },
        {
          "output_type": "execute_result",
          "data": {
            "text/plain": [
              "Text(0.5, 0, 'y')"
            ]
          },
          "metadata": {},
          "execution_count": 13
        },
        {
          "output_type": "execute_result",
          "data": {
            "text/plain": [
              "Text(0, 0.5, 'resid')"
            ]
          },
          "metadata": {},
          "execution_count": 13
        },
        {
          "output_type": "execute_result",
          "data": {
            "text/plain": [
              "<matplotlib.lines.Line2D at 0x783e97e429e0>"
            ]
          },
          "metadata": {},
          "execution_count": 13
        },
        {
          "output_type": "display_data",
          "data": {
            "text/plain": [
              "<Figure size 640x480 with 1 Axes>"
            ],
            "image/png": "[encoded data removed]"
          },
          "metadata": {}
        }
      ]
    },
    {
      "cell_type": "markdown",
      "source": [
        "<font color = \"red\"> Are the assumptions satisfied? </font>"
      ],
      "metadata": {
        "id": "oXTG94qAfjU5"
      },
      "id": "oXTG94qAfjU5"
    },
    {
      "cell_type": "markdown",
      "source": [
        "The assumptions are approximatevly distributed, when the number of points per game is between 0 and 15. After that, it isn't anymore."
      ],
      "metadata": {
        "id": "xmLwMKbSfnv5"
      },
      "id": "xmLwMKbSfnv5"
    },
    {
      "cell_type": "markdown",
      "id": "8a01acda",
      "metadata": {
        "id": "8a01acda"
      },
      "source": [
        "### Make a scatter plot and show the regression line"
      ]
    },
    {
      "cell_type": "markdown",
      "source": [
        "The code below makes a scatter plot of the NBA data. <font color=red> Now, add in a plt.plot() call in order to make the regression line (that is, the predicted y values for each x) appear on top of the scatter plot. You can change the color by adding a `color=\"black\"`or similar call after you provide the appropriate `x` and `y` arguments. Also, add in appropriate axis labels and a title by filling in the blanks below. </font>"
      ],
      "metadata": {
        "id": "0tGEssdBQEyL"
      },
      "id": "0tGEssdBQEyL"
    },
    {
      "cell_type": "code",
      "execution_count": null,
      "id": "789f011f",
      "metadata": {
        "id": "789f011f",
        "colab": {
          "base_uri": "https://localhost:8080/",
          "height": 507
        },
        "outputId": "b7a33613-fedf-4ad0-f80c-3b4fd1ecfb52"
      },
      "outputs": [
        {
          "output_type": "execute_result",
          "data": {
            "text/plain": [
              "<matplotlib.collections.PathCollection at 0x7d4eecf7d780>"
            ]
          },
          "metadata": {},
          "execution_count": 19
        },
        {
          "output_type": "execute_result",
          "data": {
            "text/plain": [
              "[<matplotlib.lines.Line2D at 0x7d4eecf7dc00>]"
            ]
          },
          "metadata": {},
          "execution_count": 19
        },
        {
          "output_type": "execute_result",
          "data": {
            "text/plain": [
              "Text(0.5, 1.0, 'Scatter plot and correlation with a regression line')"
            ]
          },
          "metadata": {},
          "execution_count": 19
        },
        {
          "output_type": "execute_result",
          "data": {
            "text/plain": [
              "Text(0.5, 0, 'Field Goal Attempts')"
            ]
          },
          "metadata": {},
          "execution_count": 19
        },
        {
          "output_type": "execute_result",
          "data": {
            "text/plain": [
              "Text(0, 0.5, 'Points per game')"
            ]
          },
          "metadata": {},
          "execution_count": 19
        },
        {
          "output_type": "execute_result",
          "data": {
            "text/plain": [
              "Text(10, 25, 'R2=0.965')"
            ]
          },
          "metadata": {},
          "execution_count": 19
        },
        {
          "output_type": "execute_result",
          "data": {
            "text/plain": [
              "Text([14.06756757], [28.06756757], 'Jayson Tatum')"
            ]
          },
          "metadata": {},
          "execution_count": 19
        },
        {
          "output_type": "display_data",
          "data": {
            "text/plain": [
              "<Figure size 640x480 with 1 Axes>"
            ],
            "image/png": "[encoded data removed]"
          },
          "metadata": {}
        }
      ],
      "source": [
        "# Now, lets make a plot with matplot lib using a iterative approach (which is easy to read)\n",
        "\n",
        "plt.scatter(x, y, s=15, alpha=.5)                     # Scatterplot: Specfiy size(s) and transparency(alpha) of dots\n",
        "plt.plot(x,predicted_y, color=\"black\")             # line: Add line for regression line w/ predicted values\n",
        "plt.title('Scatter plot and correlation with a regression line')   # Give it a title\n",
        "plt.xlabel('Field Goal Attempts')            # Label x-axis\n",
        "plt.ylabel('Points per game')                         # Label y-axis\n",
        "plt.text(10,25, f'R2={r2}')                           # 10, 25 are the coordinates for our text. Adjust accordingly\n",
        "\n",
        "plt.annotate(df.PLAYER[0],                     # This is the top scoring player's name. Refer to .head() from earlier\n",
        "             (x[0], y[0]),                     # This is the point we want to annotate.\n",
        "             (x[0]-7,y[0]-2),                  # These are coords for the text\n",
        "             arrowprops=dict(arrowstyle='->')) # Here we use a flat line for the arrow '-'\n",
        "\n",
        "\n",
        "# Finally, let's save an image called 'nba_regression.png'.\n",
        "# We'll set the dpi (dots per inch) to 300, so we have a nice looking picture.\n",
        "# plt.savefig('nba_regression.png', dpi=300)"
      ]
    },
    {
      "cell_type": "markdown",
      "source": [
        "<font color=red> From the last line of code, check in your Google Colab files (the folder icon on the left) to see if there is a new image (.png) file showing the regression line we just made (there should be!). </font>"
      ],
      "metadata": {
        "id": "oCAzNbVkQx6i"
      },
      "id": "oCAzNbVkQx6i"
    },
    {
      "cell_type": "markdown",
      "source": [
        "Finally, be sure to click Share and share the file with me or Elms College, so I can grade it! Copy and paste the link to your Colab file into Moodle so I can grade it."
      ],
      "metadata": {
        "id": "RnHf_pphRKLh"
      },
      "id": "RnHf_pphRKLh"
    }
  ],
  "metadata": {
    "kernelspec": {
      "display_name": "Python 3 (ipykernel)",
      "language": "python",
      "name": "python3"
    },
    "language_info": {
      "codemirror_mode": {
        "name": "ipython",
        "version": 3
      },
      "file_extension": ".py",
      "mimetype": "text/x-python",
      "name": "python",
      "nbconvert_exporter": "python",
      "pygments_lexer": "ipython3",
      "version": "3.9.13"
    },
    "colab": {
      "provenance": []
    }
  },
  "nbformat": 4,
  "nbformat_minor": 5
}